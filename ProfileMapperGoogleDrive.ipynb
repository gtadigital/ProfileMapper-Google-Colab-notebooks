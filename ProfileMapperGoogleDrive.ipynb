{
  "nbformat": 4,
  "nbformat_minor": 0,
  "metadata": {
    "colab": {
      "name": "ProfileMapperGoogleDrive.ipynb",
      "provenance": [],
      "collapsed_sections": [],
      "toc_visible": true,
      "authorship_tag": "ABX9TyP0CEFKu3SIeD7hp83K+jIZ",
      "include_colab_link": true
    },
    "kernelspec": {
      "name": "python3",
      "display_name": "Python 3"
    }
  },
  "cells": [
    {
      "cell_type": "markdown",
      "metadata": {
        "id": "view-in-github",
        "colab_type": "text"
      },
      "source": [
        "<a href=\"https://colab.research.google.com/github/gtadigital/ProfileMapper-Google-Colab-notebooks/blob/main/ProfileMapperGoogleDrive.ipynb\" target=\"_parent\"><img src=\"https://colab.research.google.com/assets/colab-badge.svg\" alt=\"Open In Colab\"/></a>"
      ]
    },
    {
      "cell_type": "markdown",
      "metadata": {
        "id": "8gYIKvs1IsIA"
      },
      "source": [
        "# **Profile Mapper**"
      ]
    },
    {
      "cell_type": "markdown",
      "metadata": {
        "id": "a4G1vm_UI1fk"
      },
      "source": [
        "This version of ProfileMapper works with data stored on your Google Drive account."
      ]
    },
    {
      "cell_type": "markdown",
      "metadata": {
        "id": "JWmq6ofoh7lv"
      },
      "source": [
        "## **Connect Google Colab notebook to Google Drive**"
      ]
    },
    {
      "cell_type": "code",
      "metadata": {
        "id": "Uay2FNGdhRuz",
        "outputId": "b35e4a0d-098f-43c1-9df7-3237c10a46c8",
        "colab": {
          "base_uri": "https://localhost:8080/",
          "height": 35
        }
      },
      "source": [
        "from google.colab import drive\n",
        "drive.mount('/content/drive')"
      ],
      "execution_count": null,
      "outputs": [
        {
          "output_type": "stream",
          "text": [
            "Mounted at /content/drive\n"
          ],
          "name": "stdout"
        }
      ]
    },
    {
      "cell_type": "markdown",
      "metadata": {
        "id": "cW5ctzfFJMjJ"
      },
      "source": [
        "Now a folder \"drive\" should appear in your directory (/content/drive)."
      ]
    },
    {
      "cell_type": "markdown",
      "metadata": {
        "id": "yGWORbPuJiZY"
      },
      "source": [
        "## **Do the transformation**\n",
        "\n",
        "*   Fill in the path of the source folder: myFile=\"#path\"\n",
        "*   Fill in the path of the target folder: myOutput=\"#path/\"\n",
        "*   Fill in the path and name of the xslt file: myXslt=\"#path/name\"\n",
        "\n",
        "easy way to get the correct paths: \n",
        "\n",
        "*   click files > content > drive > My Drive\n",
        "*   right mouse click on the folder you want to choose > select \"copy path\"\n",
        "\n",
        "\n",
        "The newly generated XML files are stored directly in the selected folder in Google Drive\n",
        "\n",
        "\n",
        "\n",
        "\n",
        "\n"
      ]
    },
    {
      "cell_type": "code",
      "metadata": {
        "id": "PJo7KII5Gy_b"
      },
      "source": [
        "import os\n",
        "import lxml.etree as ET\n",
        "import argparse\n",
        "\n",
        "\n",
        "myFile = \"/content/drive/My Drive/sourceFilesProfileMapper\"\n",
        "myOutput = \"/content/drive/My Drive/targetFilesProfileMapper/\"\n",
        "myXslt = \"/content/drive/My Drive/xsltFilesProfileMapper/groupTransform.xsl\"\n",
        "\n",
        "for root, dirs, files in os.walk(myFile):\n",
        "\n",
        "    for item in files:\n",
        "        if item.endswith(('.xml')):\n",
        "            dom = ET.parse( root + \"/\" + item)\n",
        "            xslt = ET.parse(myXslt)\n",
        "            transform = ET.XSLT(xslt)\n",
        "            newdom = transform(dom)\n",
        "            infile = (ET.tostring(newdom, pretty_print=True))\n",
        "            outfile = open(myOutput + item, 'wb')\n",
        "            outfile.write(infile)\n",
        "            outfile.close()\n"
      ],
      "execution_count": null,
      "outputs": []
    }
  ]
}